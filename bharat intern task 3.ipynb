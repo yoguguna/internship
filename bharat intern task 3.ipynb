{
 "cells": [
  {
   "cell_type": "markdown",
   "id": "bce24dc6",
   "metadata": {},
   "source": [
    "# Bharat inter Task-3"
   ]
  },
  {
   "cell_type": "markdown",
   "id": "1a713b10",
   "metadata": {},
   "source": [
    "## Number Recoginition"
   ]
  },
  {
   "cell_type": "markdown",
   "id": "3eac27e6",
   "metadata": {},
   "source": [
    "#### import libraries"
   ]
  },
  {
   "cell_type": "code",
   "execution_count": 1,
   "id": "caacd0c8",
   "metadata": {},
   "outputs": [],
   "source": [
    "import tensorflow as tf\n",
    "from tensorflow import keras\n",
    "from tensorflow.keras import layers\n",
    "import matplotlib.pyplot as plt"
   ]
  },
  {
   "cell_type": "markdown",
   "id": "43b69c3d",
   "metadata": {},
   "source": [
    "### Load MNIST dataset"
   ]
  },
  {
   "cell_type": "code",
   "execution_count": 2,
   "id": "66d5099c",
   "metadata": {},
   "outputs": [],
   "source": [
    "mnist = keras.datasets.mnist\n",
    "(x_train, y_train), (x_test, y_test) = mnist.load_data()"
   ]
  },
  {
   "cell_type": "code",
   "execution_count": 3,
   "id": "8e9aaf22",
   "metadata": {},
   "outputs": [],
   "source": [
    "# Normalize the pixel values to a range of [0, 1]\n",
    "x_train, x_test = x_train / 255.0, x_test / 255.0"
   ]
  },
  {
   "cell_type": "code",
   "execution_count": 4,
   "id": "237193e5",
   "metadata": {},
   "outputs": [],
   "source": [
    "# Build a neural network model\n",
    "model = keras.Sequential([\n",
    "    layers.Flatten(input_shape=(28, 28)),\n",
    "    layers.Dense(128, activation='relu'),\n",
    "    layers.Dropout(0.2),\n",
    "    layers.Dense(10, activation='softmax')])"
   ]
  },
  {
   "cell_type": "code",
   "execution_count": 5,
   "id": "d9171f4f",
   "metadata": {},
   "outputs": [],
   "source": [
    "# Compile the model\n",
    "model.compile(optimizer='adam',\n",
    "              loss='sparse_categorical_crossentropy',\n",
    "              metrics=['accuracy'])\n"
   ]
  },
  {
   "cell_type": "code",
   "execution_count": 6,
   "id": "b8f98310",
   "metadata": {},
   "outputs": [
    {
     "name": "stdout",
     "output_type": "stream",
     "text": [
      "Epoch 1/5\n",
      "1875/1875 [==============================] - 8s 4ms/step - loss: 0.2945 - accuracy: 0.9150\n",
      "Epoch 2/5\n",
      "1875/1875 [==============================] - 7s 4ms/step - loss: 0.1419 - accuracy: 0.9578\n",
      "Epoch 3/5\n",
      "1875/1875 [==============================] - 7s 4ms/step - loss: 0.1038 - accuracy: 0.9692\n",
      "Epoch 4/5\n",
      "1875/1875 [==============================] - 7s 3ms/step - loss: 0.0860 - accuracy: 0.9736\n",
      "Epoch 5/5\n",
      "1875/1875 [==============================] - 7s 4ms/step - loss: 0.0740 - accuracy: 0.9766\n",
      "313/313 - 1s - loss: 0.0750 - accuracy: 0.9777 - 1s/epoch - 3ms/step\n",
      "\n",
      "Test accuracy: 0.9776999950408936\n"
     ]
    }
   ],
   "source": [
    "# Train the model\n",
    "model.fit(x_train, y_train, epochs=5)\n",
    "\n",
    "# Evaluate the model on the test dataset\n",
    "test_loss, test_acc = model.evaluate(x_test, y_test, verbose=2)\n",
    "print(\"\\nTest accuracy:\", test_acc)"
   ]
  },
  {
   "cell_type": "code",
   "execution_count": 7,
   "id": "fd388a85",
   "metadata": {},
   "outputs": [],
   "source": [
    "def predict_digit(image):\n",
    "    image = image.reshape(1, 28, 28)\n",
    "    image = image / 255.0\n",
    "    prediction = model.predict(image)\n",
    "    predicted_digit = prediction.argmax()\n",
    "    return predicted_digit"
   ]
  },
  {
   "cell_type": "code",
   "execution_count": 8,
   "id": "afb78459",
   "metadata": {},
   "outputs": [
    {
     "name": "stdout",
     "output_type": "stream",
     "text": [
      "1/1 [==============================] - 0s 180ms/step\n",
      "Predicted digit: 5\n"
     ]
    }
   ],
   "source": [
    "# Example usage\n",
    "sample_image = x_test[0]\n",
    "predicted_digit = predict_digit(sample_image)\n",
    "print(\"Predicted digit:\", predicted_digit)"
   ]
  },
  {
   "cell_type": "code",
   "execution_count": 9,
   "id": "3475cbef",
   "metadata": {},
   "outputs": [
    {
     "data": {
      "image/png": "[encoded data removed]",
      "text/plain": [
       "<Figure size 640x480 with 1 Axes>"
      ]
     },
     "metadata": {},
     "output_type": "display_data"
    }
   ],
   "source": [
    "# Display the sample image and its label\n",
    "plt.figure()\n",
    "plt.imshow(sample_image, cmap='gray')\n",
    "plt.title(f\"Actual digit: {y_test[0]}, Predicted digit: {predicted_digit}\")\n",
    "plt.show()"
   ]
  },
  {
   "cell_type": "code",
   "execution_count": 16,
   "id": "59ab7127",
   "metadata": {},
   "outputs": [
    {
     "name": "stdout",
     "output_type": "stream",
     "text": [
      "(10000, 28, 28)\n"
     ]
    }
   ],
   "source": [
    "df_features = x_train[:, :784]\n",
    "df_label = y_train\n",
    "X_test = x_test[:, :784]\n",
    "print(X_test.shape)"
   ]
  },
  {
   "cell_type": "code",
   "execution_count": 19,
   "id": "7af6cc99",
   "metadata": {},
   "outputs": [],
   "source": [
    "X_train = X_train.astype('float32'); X_cv= X_cv.astype('float32'); X_test = X_test.astype('float32')\n",
    "X_train /= 255; X_cv /= 255; X_test /= 255\n",
    "\n",
    "# Convert labels to One Hot Encoded\n",
    "num_digits = 10\n",
    "y_train = keras.utils.to_categorical(y_train, num_digits)\n",
    "y_cv = keras.utils.to_categorical(y_cv, num_digits)"
   ]
  },
  {
   "cell_type": "code",
   "execution_count": 20,
   "id": "3d4d65d7",
   "metadata": {},
   "outputs": [
    {
     "name": "stdout",
     "output_type": "stream",
     "text": [
      "[0. 1. 0. 0. 0. 0. 0. 0. 0. 0.]\n",
      "[0. 0. 0. 0. 0. 1. 0. 0. 0. 0.]\n"
     ]
    }
   ],
   "source": [
    "print(y_train[0]) \n",
    "print(y_train[3]) "
   ]
  },
  {
   "cell_type": "code",
   "execution_count": 21,
   "id": "3c7d0169",
   "metadata": {},
   "outputs": [],
   "source": [
    "n_input = 784 # number of features\n",
    "n_hidden_1 = 300\n",
    "n_hidden_2 = 100\n",
    "n_hidden_3 = 100\n",
    "n_hidden_4 = 200\n",
    "num_digits = 10"
   ]
  },
  {
   "cell_type": "code",
   "execution_count": 25,
   "id": "6523acf9",
   "metadata": {},
   "outputs": [],
   "source": [
    "from tensorflow.keras.layers import Input, Dense\n",
    "Inp = Input(shape=(784,))\n",
    "x = Dense(n_hidden_1, activation='relu', name = \"Hidden_Layer_1\")(Inp)\n",
    "x = Dense(n_hidden_2, activation='relu', name = \"Hidden_Layer_2\")(x)\n",
    "x = Dense(n_hidden_3, activation='relu', name = \"Hidden_Layer_3\")(x)\n",
    "x = Dense(n_hidden_4, activation='relu', name = \"Hidden_Layer_4\")(x)\n",
    "output = Dense(num_digits, activation='softmax', name = \"Output_Layer\")(x)"
   ]
  },
  {
   "cell_type": "code",
   "execution_count": 27,
   "id": "120adcea",
   "metadata": {},
   "outputs": [],
   "source": [
    "import keras\n",
    "from keras.models import Model\n",
    "from keras.layers import *\n",
    "from keras import optimizers"
   ]
  },
  {
   "cell_type": "code",
   "execution_count": 28,
   "id": "492b59b8",
   "metadata": {},
   "outputs": [
    {
     "name": "stdout",
     "output_type": "stream",
     "text": [
      "Model: \"model\"\n",
      "_________________________________________________________________\n",
      " Layer (type)                Output Shape              Param #   \n",
      "=================================================================\n",
      " input_1 (InputLayer)        [(None, 784)]             0         \n",
      "                                                                 \n",
      " Hidden_Layer_1 (Dense)      (None, 300)               235500    \n",
      "                                                                 \n",
      " Hidden_Layer_2 (Dense)      (None, 100)               30100     \n",
      "                                                                 \n",
      " Hidden_Layer_3 (Dense)      (None, 100)               10100     \n",
      "                                                                 \n",
      " Hidden_Layer_4 (Dense)      (None, 200)               20200     \n",
      "                                                                 \n",
      " Output_Layer (Dense)        (None, 10)                2010      \n",
      "                                                                 \n",
      "=================================================================\n",
      "Total params: 297910 (1.14 MB)\n",
      "Trainable params: 297910 (1.14 MB)\n",
      "Non-trainable params: 0 (0.00 Byte)\n",
      "_________________________________________________________________\n"
     ]
    }
   ],
   "source": [
    "model = Model(Inp, output)\n",
    "model.summary()"
   ]
  },
  {
   "cell_type": "code",
   "execution_count": 29,
   "id": "16434877",
   "metadata": {},
   "outputs": [
    {
     "name": "stderr",
     "output_type": "stream",
     "text": [
      "WARNING:absl:`lr` is deprecated in Keras optimizer, please use `learning_rate` or use the legacy optimizer, e.g.,tf.keras.optimizers.legacy.SGD.\n"
     ]
    }
   ],
   "source": [
    "learning_rate = 0.1\n",
    "training_epochs = 20\n",
    "batch_size = 100\n",
    "sgd = optimizers.SGD(lr=learning_rate)"
   ]
  },
  {
   "cell_type": "code",
   "execution_count": 42,
   "id": "017e0605",
   "metadata": {},
   "outputs": [
    {
     "name": "stderr",
     "output_type": "stream",
     "text": [
      "WARNING:absl:`lr` is deprecated in Keras optimizer, please use `learning_rate` or use the legacy optimizer, e.g.,tf.keras.optimizers.legacy.Adam.\n"
     ]
    }
   ],
   "source": [
    "adam = keras.optimizers.Adam(lr=learning_rate)\n",
    "model1 = Model(Inp, output)\n"
   ]
  },
  {
   "cell_type": "code",
   "execution_count": 43,
   "id": "51b421b4",
   "metadata": {},
   "outputs": [],
   "source": [
    "model.compile(loss='categorical_crossentropy',\n",
    "              optimizer='sgd',\n",
    "              metrics=['accuracy'])"
   ]
  },
  {
   "cell_type": "code",
   "execution_count": 44,
   "id": "973d7381",
   "metadata": {},
   "outputs": [
    {
     "name": "stdout",
     "output_type": "stream",
     "text": [
      "Epoch 1/20\n",
      "1500/1500 - 16s - loss: 2.3000 - accuracy: 0.1160 - val_loss: 2.2996 - val_accuracy: 0.1128 - 16s/epoch - 11ms/step\n",
      "Epoch 2/20\n",
      "1500/1500 - 13s - loss: 2.2993 - accuracy: 0.1123 - val_loss: 2.2991 - val_accuracy: 0.1128 - 13s/epoch - 9ms/step\n",
      "Epoch 3/20\n",
      "1500/1500 - 19s - loss: 2.2990 - accuracy: 0.1129 - val_loss: 2.2988 - val_accuracy: 0.1128 - 19s/epoch - 13ms/step\n",
      "Epoch 4/20\n",
      "1500/1500 - 21s - loss: 2.2985 - accuracy: 0.1129 - val_loss: 2.2988 - val_accuracy: 0.1128 - 21s/epoch - 14ms/step\n",
      "Epoch 5/20\n",
      "1500/1500 - 19s - loss: 2.2980 - accuracy: 0.1162 - val_loss: 2.2979 - val_accuracy: 0.1128 - 19s/epoch - 12ms/step\n",
      "Epoch 6/20\n",
      "1500/1500 - 19s - loss: 2.2974 - accuracy: 0.1123 - val_loss: 2.2974 - val_accuracy: 0.1128 - 19s/epoch - 12ms/step\n",
      "Epoch 7/20\n",
      "1500/1500 - 22s - loss: 2.2965 - accuracy: 0.1129 - val_loss: 2.2960 - val_accuracy: 0.1128 - 22s/epoch - 14ms/step\n",
      "Epoch 8/20\n",
      "1500/1500 - 9s - loss: 2.2956 - accuracy: 0.1158 - val_loss: 2.2951 - val_accuracy: 0.1128 - 9s/epoch - 6ms/step\n",
      "Epoch 9/20\n",
      "1500/1500 - 6s - loss: 2.2941 - accuracy: 0.1166 - val_loss: 2.2933 - val_accuracy: 0.1672 - 6s/epoch - 4ms/step\n",
      "Epoch 10/20\n",
      "1500/1500 - 6s - loss: 2.2921 - accuracy: 0.1279 - val_loss: 2.2903 - val_accuracy: 0.1128 - 6s/epoch - 4ms/step\n",
      "Epoch 11/20\n",
      "1500/1500 - 6s - loss: 2.2889 - accuracy: 0.1399 - val_loss: 2.2866 - val_accuracy: 0.1252 - 6s/epoch - 4ms/step\n",
      "Epoch 12/20\n",
      "1500/1500 - 6s - loss: 2.2834 - accuracy: 0.1639 - val_loss: 2.2804 - val_accuracy: 0.1128 - 6s/epoch - 4ms/step\n",
      "Epoch 13/20\n",
      "1500/1500 - 7s - loss: 2.2727 - accuracy: 0.1948 - val_loss: 2.2627 - val_accuracy: 0.1944 - 7s/epoch - 4ms/step\n",
      "Epoch 14/20\n",
      "1500/1500 - 6s - loss: 2.2463 - accuracy: 0.2093 - val_loss: 2.2165 - val_accuracy: 0.2212 - 6s/epoch - 4ms/step\n",
      "Epoch 15/20\n",
      "1500/1500 - 9s - loss: 2.1895 - accuracy: 0.2157 - val_loss: 2.1227 - val_accuracy: 0.2418 - 9s/epoch - 6ms/step\n",
      "Epoch 16/20\n",
      "1500/1500 - 9s - loss: 2.1610 - accuracy: 0.2162 - val_loss: 2.1667 - val_accuracy: 0.1483 - 9s/epoch - 6ms/step\n",
      "Epoch 17/20\n",
      "1500/1500 - 7s - loss: 2.1191 - accuracy: 0.2334 - val_loss: 2.0323 - val_accuracy: 0.2496 - 7s/epoch - 4ms/step\n",
      "Epoch 18/20\n",
      "1500/1500 - 7s - loss: 2.0663 - accuracy: 0.2614 - val_loss: 1.9136 - val_accuracy: 0.3879 - 7s/epoch - 4ms/step\n",
      "Epoch 19/20\n",
      "1500/1500 - 7s - loss: 2.0105 - accuracy: 0.2849 - val_loss: 2.0567 - val_accuracy: 0.2280 - 7s/epoch - 5ms/step\n",
      "Epoch 20/20\n",
      "1500/1500 - 7s - loss: 1.9294 - accuracy: 0.3044 - val_loss: 1.8135 - val_accuracy: 0.3363 - 7s/epoch - 5ms/step\n"
     ]
    }
   ],
   "source": [
    "history1 = model.fit(X_train, y_train,\n",
    "                     batch_size = batch_size,\n",
    "                     epochs = training_epochs,\n",
    "                     verbose = 2,\n",
    "                     validation_data=(X_cv, y_cv))"
   ]
  },
  {
   "cell_type": "code",
   "execution_count": 38,
   "id": "ee864158",
   "metadata": {},
   "outputs": [
    {
     "name": "stderr",
     "output_type": "stream",
     "text": [
      "WARNING:absl:`lr` is deprecated in Keras optimizer, please use `learning_rate` or use the legacy optimizer, e.g.,tf.keras.optimizers.legacy.Adam.\n"
     ]
    }
   ],
   "source": [
    "Inp = Input(shape=(784,))\n",
    "x = Dense(n_hidden_1, activation='relu', name = \"Hidden_Layer_1\")(Inp)\n",
    "x = Dense(n_hidden_2, activation='relu', name = \"Hidden_Layer_2\")(x)\n",
    "x = Dense(n_hidden_3, activation='relu', name = \"Hidden_Layer_3\")(x)\n",
    "x = Dense(n_hidden_4, activation='relu', name = \"Hidden_Layer_4\")(x)\n",
    "output = Dense(num_digits, activation='softmax', name = \"Output_Layer\")(x)\n",
    "\n",
    "# We rely on ADAM as our optimizing methodology\n",
    "\n",
    "model2.compile(loss='categorical_crossentropy',\n",
    "              optimizer='adam',\n",
    "              metrics=['accuracy'])"
   ]
  },
  {
   "cell_type": "code",
   "execution_count": 39,
   "id": "5ab82c66",
   "metadata": {},
   "outputs": [
    {
     "name": "stdout",
     "output_type": "stream",
     "text": [
      "Epoch 1/20\n",
      "1500/1500 - 9s - loss: 0.7855 - accuracy: 0.7364 - val_loss: 0.4299 - val_accuracy: 0.8666 - 9s/epoch - 6ms/step\n",
      "Epoch 2/20\n",
      "1500/1500 - 9s - loss: 0.3203 - accuracy: 0.9023 - val_loss: 0.2277 - val_accuracy: 0.9288 - 9s/epoch - 6ms/step\n",
      "Epoch 3/20\n",
      "1500/1500 - 9s - loss: 0.2176 - accuracy: 0.9352 - val_loss: 0.1715 - val_accuracy: 0.9453 - 9s/epoch - 6ms/step\n",
      "Epoch 4/20\n",
      "1500/1500 - 9s - loss: 0.1712 - accuracy: 0.9480 - val_loss: 0.1515 - val_accuracy: 0.9518 - 9s/epoch - 6ms/step\n",
      "Epoch 5/20\n",
      "1500/1500 - 9s - loss: 0.1402 - accuracy: 0.9571 - val_loss: 0.1193 - val_accuracy: 0.9647 - 9s/epoch - 6ms/step\n",
      "Epoch 6/20\n",
      "1500/1500 - 9s - loss: 0.1186 - accuracy: 0.9635 - val_loss: 0.1189 - val_accuracy: 0.9632 - 9s/epoch - 6ms/step\n",
      "Epoch 7/20\n",
      "1500/1500 - 12s - loss: 0.1051 - accuracy: 0.9673 - val_loss: 0.1060 - val_accuracy: 0.9668 - 12s/epoch - 8ms/step\n",
      "Epoch 8/20\n",
      "1500/1500 - 11s - loss: 0.0911 - accuracy: 0.9716 - val_loss: 0.1117 - val_accuracy: 0.9647 - 11s/epoch - 7ms/step\n",
      "Epoch 9/20\n",
      "1500/1500 - 10s - loss: 0.0826 - accuracy: 0.9745 - val_loss: 0.1136 - val_accuracy: 0.9645 - 10s/epoch - 7ms/step\n",
      "Epoch 10/20\n",
      "1500/1500 - 9s - loss: 0.0738 - accuracy: 0.9773 - val_loss: 0.1105 - val_accuracy: 0.9652 - 9s/epoch - 6ms/step\n",
      "Epoch 11/20\n",
      "1500/1500 - 9s - loss: 0.0671 - accuracy: 0.9788 - val_loss: 0.0938 - val_accuracy: 0.9717 - 9s/epoch - 6ms/step\n",
      "Epoch 12/20\n",
      "1500/1500 - 10s - loss: 0.0603 - accuracy: 0.9807 - val_loss: 0.1087 - val_accuracy: 0.9687 - 10s/epoch - 6ms/step\n",
      "Epoch 13/20\n",
      "1500/1500 - 10s - loss: 0.0555 - accuracy: 0.9829 - val_loss: 0.0829 - val_accuracy: 0.9749 - 10s/epoch - 6ms/step\n",
      "Epoch 14/20\n",
      "1500/1500 - 9s - loss: 0.0505 - accuracy: 0.9843 - val_loss: 0.0824 - val_accuracy: 0.9758 - 9s/epoch - 6ms/step\n",
      "Epoch 15/20\n",
      "1500/1500 - 9s - loss: 0.0462 - accuracy: 0.9856 - val_loss: 0.0982 - val_accuracy: 0.9722 - 9s/epoch - 6ms/step\n",
      "Epoch 16/20\n",
      "1500/1500 - 10s - loss: 0.0430 - accuracy: 0.9865 - val_loss: 0.0765 - val_accuracy: 0.9768 - 10s/epoch - 6ms/step\n",
      "Epoch 17/20\n",
      "1500/1500 - 9s - loss: 0.0413 - accuracy: 0.9871 - val_loss: 0.0991 - val_accuracy: 0.9716 - 9s/epoch - 6ms/step\n",
      "Epoch 18/20\n",
      "1500/1500 - 10s - loss: 0.0361 - accuracy: 0.9884 - val_loss: 0.0869 - val_accuracy: 0.9748 - 10s/epoch - 7ms/step\n",
      "Epoch 19/20\n",
      "1500/1500 - 10s - loss: 0.0343 - accuracy: 0.9893 - val_loss: 0.0941 - val_accuracy: 0.9768 - 10s/epoch - 6ms/step\n",
      "Epoch 20/20\n",
      "1500/1500 - 8s - loss: 0.0341 - accuracy: 0.9885 - val_loss: 0.0728 - val_accuracy: 0.9789 - 8s/epoch - 6ms/step\n"
     ]
    }
   ],
   "source": [
    "history2 = model2.fit(X_train, y_train,\n",
    "                      batch_size = batch_size,\n",
    "                      epochs = training_epochs,\n",
    "                      verbose = 2,\n",
    "                      validation_data=(X_cv, y_cv))"
   ]
  },
  {
   "cell_type": "code",
   "execution_count": 45,
   "id": "878b4afc",
   "metadata": {},
   "outputs": [
    {
     "name": "stderr",
     "output_type": "stream",
     "text": [
      "WARNING:absl:`lr` is deprecated in Keras optimizer, please use `learning_rate` or use the legacy optimizer, e.g.,tf.keras.optimizers.legacy.Adam.\n"
     ]
    }
   ],
   "source": [
    "Inp = Input(shape=(784,))\n",
    "x = Dense(n_hidden_1, activation='relu', name = \"Hidden_Layer_1\")(Inp)\n",
    "x = Dense(n_hidden_2, activation='relu', name = \"Hidden_Layer_2\")(x)\n",
    "x = Dense(n_hidden_3, activation='relu', name = \"Hidden_Layer_3\")(x)\n",
    "x = Dense(n_hidden_4, activation='relu', name = \"Hidden_Layer_4\")(x)\n",
    "output = Dense(num_digits, activation='softmax', name = \"Output_Layer\")(x)\n",
    "\n",
    "learning_rate = 0.01\n",
    "adam = keras.optimizers.Adam(lr=learning_rate)\n",
    "model2a = Model(Inp, output)\n",
    "\n",
    "model2a.compile(loss='categorical_crossentropy',\n",
    "              optimizer='adam',\n",
    "              metrics=['accuracy'])"
   ]
  },
  {
   "cell_type": "code",
   "execution_count": 46,
   "id": "9feb797e",
   "metadata": {},
   "outputs": [
    {
     "name": "stdout",
     "output_type": "stream",
     "text": [
      "Epoch 1/20\n",
      "1500/1500 - 11s - loss: 0.7695 - accuracy: 0.7471 - val_loss: 0.3908 - val_accuracy: 0.8805 - 11s/epoch - 7ms/step\n",
      "Epoch 2/20\n",
      "1500/1500 - 9s - loss: 0.3433 - accuracy: 0.8984 - val_loss: 0.2671 - val_accuracy: 0.9175 - 9s/epoch - 6ms/step\n",
      "Epoch 3/20\n",
      "1500/1500 - 9s - loss: 0.2328 - accuracy: 0.9308 - val_loss: 0.1854 - val_accuracy: 0.9441 - 9s/epoch - 6ms/step\n",
      "Epoch 4/20\n",
      "1500/1500 - 9s - loss: 0.1789 - accuracy: 0.9468 - val_loss: 0.1621 - val_accuracy: 0.9493 - 9s/epoch - 6ms/step\n",
      "Epoch 5/20\n",
      "1500/1500 - 9s - loss: 0.1454 - accuracy: 0.9554 - val_loss: 0.1350 - val_accuracy: 0.9585 - 9s/epoch - 6ms/step\n",
      "Epoch 6/20\n",
      "1500/1500 - 9s - loss: 0.1215 - accuracy: 0.9632 - val_loss: 0.1118 - val_accuracy: 0.9649 - 9s/epoch - 6ms/step\n",
      "Epoch 7/20\n",
      "1500/1500 - 10s - loss: 0.1077 - accuracy: 0.9665 - val_loss: 0.1101 - val_accuracy: 0.9654 - 10s/epoch - 6ms/step\n",
      "Epoch 8/20\n",
      "1500/1500 - 9s - loss: 0.0956 - accuracy: 0.9706 - val_loss: 0.0977 - val_accuracy: 0.9703 - 9s/epoch - 6ms/step\n",
      "Epoch 9/20\n",
      "1500/1500 - 9s - loss: 0.0857 - accuracy: 0.9732 - val_loss: 0.0976 - val_accuracy: 0.9697 - 9s/epoch - 6ms/step\n",
      "Epoch 10/20\n",
      "1500/1500 - 9s - loss: 0.0745 - accuracy: 0.9765 - val_loss: 0.1018 - val_accuracy: 0.9682 - 9s/epoch - 6ms/step\n",
      "Epoch 11/20\n",
      "1500/1500 - 9s - loss: 0.0679 - accuracy: 0.9781 - val_loss: 0.0953 - val_accuracy: 0.9707 - 9s/epoch - 6ms/step\n",
      "Epoch 12/20\n",
      "1500/1500 - 9s - loss: 0.0619 - accuracy: 0.9808 - val_loss: 0.0884 - val_accuracy: 0.9731 - 9s/epoch - 6ms/step\n",
      "Epoch 13/20\n",
      "1500/1500 - 9s - loss: 0.0564 - accuracy: 0.9820 - val_loss: 0.0994 - val_accuracy: 0.9708 - 9s/epoch - 6ms/step\n",
      "Epoch 14/20\n",
      "1500/1500 - 9s - loss: 0.0518 - accuracy: 0.9838 - val_loss: 0.1022 - val_accuracy: 0.9700 - 9s/epoch - 6ms/step\n",
      "Epoch 15/20\n",
      "1500/1500 - 9s - loss: 0.0496 - accuracy: 0.9835 - val_loss: 0.1438 - val_accuracy: 0.9613 - 9s/epoch - 6ms/step\n",
      "Epoch 16/20\n",
      "1500/1500 - 9s - loss: 0.0464 - accuracy: 0.9847 - val_loss: 0.1185 - val_accuracy: 0.9643 - 9s/epoch - 6ms/step\n",
      "Epoch 17/20\n",
      "1500/1500 - 9s - loss: 0.0417 - accuracy: 0.9861 - val_loss: 0.0827 - val_accuracy: 0.9769 - 9s/epoch - 6ms/step\n",
      "Epoch 18/20\n",
      "1500/1500 - 9s - loss: 0.0396 - accuracy: 0.9869 - val_loss: 0.1061 - val_accuracy: 0.9715 - 9s/epoch - 6ms/step\n",
      "Epoch 19/20\n",
      "1500/1500 - 9s - loss: 0.0350 - accuracy: 0.9886 - val_loss: 0.0915 - val_accuracy: 0.9754 - 9s/epoch - 6ms/step\n",
      "Epoch 20/20\n",
      "1500/1500 - 9s - loss: 0.0351 - accuracy: 0.9883 - val_loss: 0.0800 - val_accuracy: 0.9781 - 9s/epoch - 6ms/step\n"
     ]
    }
   ],
   "source": [
    "history2a = model2a.fit(X_train, y_train,\n",
    "                        batch_size = batch_size,\n",
    "                        epochs = training_epochs,\n",
    "                        verbose = 2,\n",
    "                        validation_data=(X_cv, y_cv))"
   ]
  },
  {
   "cell_type": "code",
   "execution_count": 47,
   "id": "49b24a8e",
   "metadata": {},
   "outputs": [],
   "source": [
    "Inp = Input(shape=(784,))\n",
    "x = Dense(n_hidden_1, activation='relu', name = \"Hidden_Layer_1\")(Inp)\n",
    "x = Dropout(0.3)(x)\n",
    "x = Dense(n_hidden_2, activation='relu', name = \"Hidden_Layer_2\")(x)\n",
    "x = Dropout(0.3)(x)\n",
    "x = Dense(n_hidden_3, activation='relu', name = \"Hidden_Layer_3\")(x)\n",
    "x = Dropout(0.3)(x)\n",
    "x = Dense(n_hidden_4, activation='relu', name = \"Hidden_Layer_4\")(x)\n",
    "output = Dense(num_digits, activation='softmax', name = \"Output_Layer\")(x)"
   ]
  },
  {
   "cell_type": "code",
   "execution_count": 49,
   "id": "c9f884f2",
   "metadata": {},
   "outputs": [
    {
     "name": "stdout",
     "output_type": "stream",
     "text": [
      "Model: \"model_5\"\n",
      "_________________________________________________________________\n",
      " Layer (type)                Output Shape              Param #   \n",
      "=================================================================\n",
      " input_4 (InputLayer)        [(None, 784)]             0         \n",
      "                                                                 \n",
      " Hidden_Layer_1 (Dense)      (None, 300)               235500    \n",
      "                                                                 \n",
      " dropout_1 (Dropout)         (None, 300)               0         \n",
      "                                                                 \n",
      " Hidden_Layer_2 (Dense)      (None, 100)               30100     \n",
      "                                                                 \n",
      " dropout_2 (Dropout)         (None, 100)               0         \n",
      "                                                                 \n",
      " Hidden_Layer_3 (Dense)      (None, 100)               10100     \n",
      "                                                                 \n",
      " dropout_3 (Dropout)         (None, 100)               0         \n",
      "                                                                 \n",
      " Hidden_Layer_4 (Dense)      (None, 200)               20200     \n",
      "                                                                 \n",
      " Output_Layer (Dense)        (None, 10)                2010      \n",
      "                                                                 \n",
      "=================================================================\n",
      "Total params: 297910 (1.14 MB)\n",
      "Trainable params: 297910 (1.14 MB)\n",
      "Non-trainable params: 0 (0.00 Byte)\n",
      "_________________________________________________________________\n"
     ]
    }
   ],
   "source": [
    "model2 = Model(Inp, output)\n",
    "model2.summary()"
   ]
  },
  {
   "cell_type": "code",
   "execution_count": 58,
   "id": "1bfd1f91",
   "metadata": {},
   "outputs": [],
   "source": [
    "X_train= 255.0"
   ]
  },
  {
   "cell_type": "code",
   "execution_count": 67,
   "id": "6ff5b1a4",
   "metadata": {},
   "outputs": [
    {
     "data": {
      "image/png": "[encoded data removed]",
      "text/plain": [
       "<Figure size 640x480 with 24 Axes>"
      ]
     },
     "metadata": {},
     "output_type": "display_data"
    }
   ],
   "source": [
    "for i in range(1,25):\n",
    "    plt.subplot(5,6,i)\n",
    "    plt.imshow(x_train[i],cmap=plt.get_cmap('gray'))"
   ]
  }
 ],
 "metadata": {
  "kernelspec": {
   "display_name": "Python 3 (ipykernel)",
   "language": "python",
   "name": "python3"
  },
  "language_info": {
   "codemirror_mode": {
    "name": "ipython",
    "version": 3
   },
   "file_extension": ".py",
   "mimetype": "text/x-python",
   "name": "python",
   "nbconvert_exporter": "python",
   "pygments_lexer": "ipython3",
   "version": "3.10.9"
  }
 },
 "nbformat": 4,
 "nbformat_minor": 5
}
